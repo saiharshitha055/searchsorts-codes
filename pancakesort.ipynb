{
 "cells": [
  {
   "cell_type": "code",
   "execution_count": 2,
   "id": "69936bfb",
   "metadata": {},
   "outputs": [
    {
     "name": "stdout",
     "output_type": "stream",
     "text": [
      "flip at 8: [88888, 65, 789, 2134, 76543, 9065, 678, 234, 909]\n",
      " flip at 9: [909, 234, 678, 9065, 76543, 2134, 789, 65, 88888]\n",
      "flip at 5: [76543, 9065, 678, 234, 909, 2134, 789, 65, 88888]\n",
      " flip at 8: [65, 789, 2134, 909, 234, 678, 9065, 76543, 88888]\n",
      "flip at 3: [2134, 789, 65, 909, 234, 678, 9065, 76543, 88888]\n",
      " flip at 6: [678, 234, 909, 65, 789, 2134, 9065, 76543, 88888]\n",
      "flip at 3: [909, 234, 678, 65, 789, 2134, 9065, 76543, 88888]\n",
      " flip at 5: [789, 65, 678, 234, 909, 2134, 9065, 76543, 88888]\n",
      " flip at 4: [234, 678, 65, 789, 909, 2134, 9065, 76543, 88888]\n",
      "flip at 2: [678, 234, 65, 789, 909, 2134, 9065, 76543, 88888]\n",
      " flip at 3: [65, 234, 678, 789, 909, 2134, 9065, 76543, 88888]\n",
      "sorted [65, 234, 678, 789, 909, 2134, 9065, 76543, 88888]\n"
     ]
    }
   ],
   "source": [
    "'''pancake sort algorithm\n",
    "1.start complete array and decrease the size(n-1)\n",
    "2.for each size:\n",
    "a.find the index of max element\n",
    "b.flip the array with max element\n",
    "c.flip the total array to the current size\n",
    "max->move to the end of the array\n",
    "3.repeat step1 by n-2,n-3.....\n",
    "for nth reduced element perform step2 until 0th index value respectively.'''\n",
    "def flip(arr,k):\n",
    "    return arr[:k+1][::-1]+arr[k+1:]\n",
    "def pancake(arr):\n",
    "    n=len(arr)\n",
    "    for size in range(n,1,-1):\n",
    "        max_index=arr.index(max(arr[:size]))\n",
    "        if max_index!=size-1:\n",
    "            if max_index!=0:\n",
    "                arr=flip(arr,max_index)\n",
    "                print(f\"flip at {max_index+1}: {arr}\")\n",
    "            arr=flip(arr,size-1)\n",
    "            print(f\" flip at {size}: {arr}\")    \n",
    "    return arr\n",
    "nums=list(map(int,input(\"enter the numbers seperated with space:\").split()))        \n",
    "sorted_nums=pancake(nums)\n",
    "print(\"sorted\",sorted_nums)"
   ]
  }
 ],
 "metadata": {
  "kernelspec": {
   "display_name": "Python 3",
   "language": "python",
   "name": "python3"
  },
  "language_info": {
   "codemirror_mode": {
    "name": "ipython",
    "version": 3
   },
   "file_extension": ".py",
   "mimetype": "text/x-python",
   "name": "python",
   "nbconvert_exporter": "python",
   "pygments_lexer": "ipython3",
   "version": "3.8.4"
  }
 },
 "nbformat": 4,
 "nbformat_minor": 5
}
