{
 "cells": [
  {
   "cell_type": "code",
   "execution_count": 3,
   "id": "9fc50879",
   "metadata": {},
   "outputs": [
    {
     "name": "stdout",
     "output_type": "stream",
     "text": [
      "original string: bellathorne\n",
      "sortedstring: abeehllnort\n"
     ]
    }
   ],
   "source": [
    "#counting sort in case of strings\n",
    "def csortString(s):\n",
    "    count=[0]*26\n",
    "    for char in s:\n",
    "        count[ord(char)-ord('a')]+=1\n",
    "    sorted_str=''\n",
    "    for i in range(26):\n",
    "        sorted_str+= chr(i+ord('a'))*count[i]\n",
    "    return sorted_str\n",
    "name=input(\"enter a single word\")        \n",
    "sorted_name=csortString(name)\n",
    "print(\"original string:\",name)\n",
    "print(\"sortedstring:\",sorted_name)"
   ]
  },
  {
   "cell_type": "code",
   "execution_count": 4,
   "id": "93253f20",
   "metadata": {},
   "outputs": [
    {
     "name": "stdout",
     "output_type": "stream",
     "text": [
      "before array: [23, 41, 12, 78, 55, 798, 900]\n",
      "after array: [12, 23, 41, 55, 78, 798, 900]\n"
     ]
    }
   ],
   "source": [
    "#radix sort\n",
    "'''1.find the maximum number to determine number of digits\n",
    "2.select 10^10, for  digit position\n",
    "3.increment digit position,w.r.to pass\n",
    "4.loop->maxnum//exp>0\n",
    "perform count sort based on current digit (num//exp)%10\n",
    "multiply exp by 10'''\n",
    "def count_sort(arr,exp):\n",
    "    n=len(arr)\n",
    "    output=[0]*n\n",
    "    count=[0]*10 #0->9 empty bucket for count of digits\n",
    "    for i in range(n):\n",
    "        index=(arr[i]//exp)%10\n",
    "        count[index]+=1\n",
    "    for i in range(1,10):    \n",
    "        count[i]+=count[i-1]\n",
    "    i=n-1\n",
    "    while i>=0:\n",
    "        index=(arr[i]//exp)%10\n",
    "        output[count[index]-1]=arr[i]\n",
    "        count[index]-=1\n",
    "        i-=1\n",
    "    for i in range(n):\n",
    "        arr[i]=output[i]        \n",
    "def radix_sort(arr):\n",
    "    max_num=max(arr)\n",
    "    exp=1\n",
    "    while max_num //exp>0:\n",
    "        count_sort(arr,exp)\n",
    "        exp*=10\n",
    "arr=[23,41,12,78,55,798,900]\n",
    "print(\"before array:\",arr)\n",
    "radix_sort(arr)\n",
    "print(\"after array:\",arr)            "
   ]
  }
 ],
 "metadata": {
  "kernelspec": {
   "display_name": "Python 3",
   "language": "python",
   "name": "python3"
  },
  "language_info": {
   "codemirror_mode": {
    "name": "ipython",
    "version": 3
   },
   "file_extension": ".py",
   "mimetype": "text/x-python",
   "name": "python",
   "nbconvert_exporter": "python",
   "pygments_lexer": "ipython3",
   "version": "3.8.4"
  }
 },
 "nbformat": 4,
 "nbformat_minor": 5
}
