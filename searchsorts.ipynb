{
 "cells": [
  {
   "cell_type": "code",
   "execution_count": null,
   "id": "41802ad0",
   "metadata": {},
   "outputs": [
    {
     "name": "stdout",
     "output_type": "stream",
     "text": [
      "enter 4 elements\n",
      "sorted array [21, 23, 35, 48]\n"
     ]
    }
   ],
   "source": [
    "#selection sort\n",
    "def selection_sort(arr):\n",
    "    n=len(arr)\n",
    "    for i in range(n):\n",
    "        min_index=i\n",
    "        for j in range(i+1,n):\n",
    "            if arr[j]<arr[min_index]:\n",
    "                 min_index=j\n",
    "                 arr[i],arr[min_index]=arr[min_index],arr[i]\n",
    "        return arr\n",
    "size=int(input(\"enter the number of elements:\"))             \n",
    "arr=[]\n",
    "print(\"enter\", size,\"elements\")\n",
    "for _ in range(size):\n",
    "    num=int(input())\n",
    "    arr.append(num)\n",
    "result=selection_sort(arr)\n",
    "print(\"sorted array\",result)"
   ]
  },
  {
   "cell_type": "code",
   "execution_count": null,
   "id": "eff5060d",
   "metadata": {},
   "outputs": [
    {
     "name": "stdout",
     "output_type": "stream",
     "text": [
      "enter 4 elements\n",
      "sorted array: [34, 53, 56, 67]\n"
     ]
    }
   ],
   "source": [
    "#insertion sort\n",
    "def insertion_sort(arr):\n",
    "    for i in range(1,len(arr)):\n",
    "        key=arr[i]\n",
    "        j=i-1\n",
    "        while j>=0 and arr[j]>key:\n",
    "            arr[j+1]=arr[j]\n",
    "            j-=1\n",
    "        arr[j+1]=key\n",
    "size=int(input(\"enter the number of elements:\"))            \n",
    "arr=[]\n",
    "print(\"enter\",size,\"elements\")\n",
    "for _ in range(size):\n",
    "    num=int(input())\n",
    "    arr.append(num)\n",
    "insertion_sort(arr)    \n",
    "print(\"sorted array:\",arr)"
   ]
  },
  {
   "cell_type": "code",
   "execution_count": 11,
   "id": "ef7b973e",
   "metadata": {},
   "outputs": [
    {
     "name": "stdout",
     "output_type": "stream",
     "text": [
      "['s', 'u', 'd', 'h', 'a', 'r', 'a', 'n', 'i']\n",
      "['s', 'a', 'a', 'd', 'h', 'i', 'n', 'r', 'u']\n",
      "sorted characters: s a a d h i n r u\n"
     ]
    }
   ],
   "source": [
    "'''perform insertion sort on strings based on length of the words'''\n",
    "def insertion_sort(arr):\n",
    "    for i in range(1,len(arr)):\n",
    "        key=arr[i]\n",
    "        j=i-1\n",
    "        while j>0 and arr[j]>(key):\n",
    "             arr[j+1]=arr[j]\n",
    "             j-=1\n",
    "        arr[j+1]=key\n",
    "    return arr\n",
    "text=input(\"enter a string\")                \n",
    "ch=list(text)\n",
    "print(ch)\n",
    "sort_chars=insertion_sort(ch)\n",
    "print(ch)\n",
    "print(\"sorted characters:\",' '.join(ch))"
   ]
  }
 ],
 "metadata": {
  "kernelspec": {
   "display_name": "Python 3",
   "language": "python",
   "name": "python3"
  },
  "language_info": {
   "codemirror_mode": {
    "name": "ipython",
    "version": 3
   },
   "file_extension": ".py",
   "mimetype": "text/x-python",
   "name": "python",
   "nbconvert_exporter": "python",
   "pygments_lexer": "ipython3",
   "version": "3.8.4"
  }
 },
 "nbformat": 4,
 "nbformat_minor": 5
}
