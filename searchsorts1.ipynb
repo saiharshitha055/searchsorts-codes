{
 "cells": [
  {
   "cell_type": "code",
   "execution_count": 1,
   "id": "c0a4b1d2",
   "metadata": {},
   "outputs": [
    {
     "name": "stdout",
     "output_type": "stream",
     "text": [
      "enter the elements:\n",
      "original list: [12, 21, 11, 45, 68]\n",
      "bubblesort: [11, 12, 21, 45, 68]\n"
     ]
    }
   ],
   "source": [
    "#bubble sort\n",
    "def bubble_sort(arr):\n",
    "    n=len(arr)\n",
    "    for i in range(n):\n",
    "        for j in range(0,n-i-1):\n",
    "            if arr[j]>arr[j+1]:\n",
    "                arr[j],arr[j+1]=arr[j+1],arr[j]\n",
    "size=int(input(\"enter the number of elements:\"))                \n",
    "arr=[]\n",
    "print(\"enter the elements:\")\n",
    "for _ in range(size):\n",
    "    arr.append(int(input()))\n",
    "print(\"original list:\",arr) \n",
    "bubble_sort(arr)\n",
    "print(\"bubblesort:\",arr)   \n",
    "\n",
    "\n"
   ]
  },
  {
   "cell_type": "code",
   "execution_count": 3,
   "id": "a52b8209",
   "metadata": {},
   "outputs": [
    {
     "name": "stdout",
     "output_type": "stream",
     "text": [
      "before: [4, 2, 2, 8, 3, 3, 1]\n",
      "after: [1, 2, 2, 3, 3, 4, 8]\n"
     ]
    }
   ],
   "source": [
    "#counting sort\n",
    "def csort(arr):\n",
    "    if not arr:\n",
    "        return[]\n",
    "    max_val=max(arr)\n",
    "    count=[0]*(max_val+1)\n",
    "    for num in arr:\n",
    "        count[num]+=1\n",
    "    for i in range(1,len(count)):\n",
    "        count[i]+=count[i-1]\n",
    "    output=[0]*len(arr)\n",
    "    for num in reversed(arr):\n",
    "        output[count[num]-1]=num\n",
    "        count[num]-=1\n",
    "    for i in range(len(arr)):\n",
    "        arr[i]=output[i]\n",
    "arr=[4,2,2,8,3,3,1]\n",
    "print(\"before:\",arr)        \n",
    "csort(arr)\n",
    "print(\"after:\",arr)\n",
    "                "
   ]
  }
 ],
 "metadata": {
  "kernelspec": {
   "display_name": "Python 3",
   "language": "python",
   "name": "python3"
  },
  "language_info": {
   "codemirror_mode": {
    "name": "ipython",
    "version": 3
   },
   "file_extension": ".py",
   "mimetype": "text/x-python",
   "name": "python",
   "nbconvert_exporter": "python",
   "pygments_lexer": "ipython3",
   "version": "3.8.4"
  }
 },
 "nbformat": 4,
 "nbformat_minor": 5
}
